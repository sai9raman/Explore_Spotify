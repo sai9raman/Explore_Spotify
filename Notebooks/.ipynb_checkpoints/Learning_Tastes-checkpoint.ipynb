{
 "cells": [
  {
   "cell_type": "code",
   "execution_count": 1,
   "metadata": {},
   "outputs": [],
   "source": [
    "import pandas as pd\n",
    "import numpy as np "
   ]
  },
  {
   "cell_type": "markdown",
   "metadata": {},
   "source": [
    "## Importing all the fetched and filtered data and putting it all together"
   ]
  },
  {
   "cell_type": "code",
   "execution_count": 5,
   "metadata": {},
   "outputs": [],
   "source": [
    "df_liked = pd.read_csv('my_spotify_data_filtered.csv',index_col=0)"
   ]
  },
  {
   "cell_type": "code",
   "execution_count": 7,
   "metadata": {},
   "outputs": [],
   "source": [
    "df_disliked = pd.read_csv('diliked_spotify_data.csv',index_col=0)"
   ]
  },
  {
   "cell_type": "code",
   "execution_count": 8,
   "metadata": {},
   "outputs": [
    {
     "data": {
      "text/html": [
       "<div>\n",
       "<style scoped>\n",
       "    .dataframe tbody tr th:only-of-type {\n",
       "        vertical-align: middle;\n",
       "    }\n",
       "\n",
       "    .dataframe tbody tr th {\n",
       "        vertical-align: top;\n",
       "    }\n",
       "\n",
       "    .dataframe thead th {\n",
       "        text-align: right;\n",
       "    }\n",
       "</style>\n",
       "<table border=\"1\" class=\"dataframe\">\n",
       "  <thead>\n",
       "    <tr style=\"text-align: right;\">\n",
       "      <th></th>\n",
       "      <th>danergy</th>\n",
       "      <th>acousticness</th>\n",
       "      <th>instrumentalness</th>\n",
       "      <th>valence</th>\n",
       "      <th>loudness</th>\n",
       "      <th>tempo</th>\n",
       "      <th>duration_secs</th>\n",
       "    </tr>\n",
       "    <tr>\n",
       "      <th>track_ids</th>\n",
       "      <th></th>\n",
       "      <th></th>\n",
       "      <th></th>\n",
       "      <th></th>\n",
       "      <th></th>\n",
       "      <th></th>\n",
       "      <th></th>\n",
       "    </tr>\n",
       "  </thead>\n",
       "  <tbody>\n",
       "    <tr>\n",
       "      <th>6vaSStNN5NX4nJ4QbRY3S0</th>\n",
       "      <td>0.5415</td>\n",
       "      <td>0.0946</td>\n",
       "      <td>0.000016</td>\n",
       "      <td>0.5600</td>\n",
       "      <td>-6.543</td>\n",
       "      <td>180.008</td>\n",
       "      <td>246.587</td>\n",
       "    </tr>\n",
       "    <tr>\n",
       "      <th>5YQV81brQo3KZbszwGSKC8</th>\n",
       "      <td>0.2745</td>\n",
       "      <td>0.9890</td>\n",
       "      <td>0.874000</td>\n",
       "      <td>0.0816</td>\n",
       "      <td>-20.806</td>\n",
       "      <td>86.820</td>\n",
       "      <td>338.200</td>\n",
       "    </tr>\n",
       "    <tr>\n",
       "      <th>6I7GNd3UW45TAxG49R4HtX</th>\n",
       "      <td>0.5665</td>\n",
       "      <td>0.3470</td>\n",
       "      <td>0.000004</td>\n",
       "      <td>0.4180</td>\n",
       "      <td>-10.191</td>\n",
       "      <td>129.942</td>\n",
       "      <td>267.292</td>\n",
       "    </tr>\n",
       "    <tr>\n",
       "      <th>2K8elWg8ihrZRwZJ7Gy6L3</th>\n",
       "      <td>0.4265</td>\n",
       "      <td>0.9530</td>\n",
       "      <td>0.000000</td>\n",
       "      <td>0.2960</td>\n",
       "      <td>-8.904</td>\n",
       "      <td>82.035</td>\n",
       "      <td>225.868</td>\n",
       "    </tr>\n",
       "    <tr>\n",
       "      <th>018eOid2aGaPdxon7T6GsC</th>\n",
       "      <td>0.4715</td>\n",
       "      <td>0.7890</td>\n",
       "      <td>0.000002</td>\n",
       "      <td>0.3480</td>\n",
       "      <td>-7.144</td>\n",
       "      <td>136.088</td>\n",
       "      <td>247.941</td>\n",
       "    </tr>\n",
       "  </tbody>\n",
       "</table>\n",
       "</div>"
      ],
      "text/plain": [
       "                        danergy  acousticness  instrumentalness  valence  \\\n",
       "track_ids                                                                  \n",
       "6vaSStNN5NX4nJ4QbRY3S0   0.5415        0.0946          0.000016   0.5600   \n",
       "5YQV81brQo3KZbszwGSKC8   0.2745        0.9890          0.874000   0.0816   \n",
       "6I7GNd3UW45TAxG49R4HtX   0.5665        0.3470          0.000004   0.4180   \n",
       "2K8elWg8ihrZRwZJ7Gy6L3   0.4265        0.9530          0.000000   0.2960   \n",
       "018eOid2aGaPdxon7T6GsC   0.4715        0.7890          0.000002   0.3480   \n",
       "\n",
       "                        loudness    tempo  duration_secs  \n",
       "track_ids                                                 \n",
       "6vaSStNN5NX4nJ4QbRY3S0    -6.543  180.008        246.587  \n",
       "5YQV81brQo3KZbszwGSKC8   -20.806   86.820        338.200  \n",
       "6I7GNd3UW45TAxG49R4HtX   -10.191  129.942        267.292  \n",
       "2K8elWg8ihrZRwZJ7Gy6L3    -8.904   82.035        225.868  \n",
       "018eOid2aGaPdxon7T6GsC    -7.144  136.088        247.941  "
      ]
     },
     "execution_count": 8,
     "metadata": {},
     "output_type": "execute_result"
    }
   ],
   "source": [
    "df_liked.head()"
   ]
  },
  {
   "cell_type": "code",
   "execution_count": 9,
   "metadata": {},
   "outputs": [
    {
     "data": {
      "text/plain": [
       "(1300, 7)"
      ]
     },
     "execution_count": 9,
     "metadata": {},
     "output_type": "execute_result"
    }
   ],
   "source": [
    "df_liked.shape"
   ]
  },
  {
   "cell_type": "code",
   "execution_count": 10,
   "metadata": {},
   "outputs": [
    {
     "data": {
      "text/html": [
       "<div>\n",
       "<style scoped>\n",
       "    .dataframe tbody tr th:only-of-type {\n",
       "        vertical-align: middle;\n",
       "    }\n",
       "\n",
       "    .dataframe tbody tr th {\n",
       "        vertical-align: top;\n",
       "    }\n",
       "\n",
       "    .dataframe thead th {\n",
       "        text-align: right;\n",
       "    }\n",
       "</style>\n",
       "<table border=\"1\" class=\"dataframe\">\n",
       "  <thead>\n",
       "    <tr style=\"text-align: right;\">\n",
       "      <th></th>\n",
       "      <th>danergy</th>\n",
       "      <th>acousticness</th>\n",
       "      <th>instrumentalness</th>\n",
       "      <th>valence</th>\n",
       "      <th>loudness</th>\n",
       "      <th>tempo</th>\n",
       "      <th>duration_secs</th>\n",
       "    </tr>\n",
       "    <tr>\n",
       "      <th>track_ids</th>\n",
       "      <th></th>\n",
       "      <th></th>\n",
       "      <th></th>\n",
       "      <th></th>\n",
       "      <th></th>\n",
       "      <th></th>\n",
       "      <th></th>\n",
       "    </tr>\n",
       "  </thead>\n",
       "  <tbody>\n",
       "    <tr>\n",
       "      <th>27jdUE1EYDSXZqhjuNxLem</th>\n",
       "      <td>0.6100</td>\n",
       "      <td>0.02660</td>\n",
       "      <td>0.621000</td>\n",
       "      <td>0.352</td>\n",
       "      <td>-8.917</td>\n",
       "      <td>93.457</td>\n",
       "      <td>285.014</td>\n",
       "    </tr>\n",
       "    <tr>\n",
       "      <th>75JFxkI2RXiU7L9VXzMkle</th>\n",
       "      <td>0.4995</td>\n",
       "      <td>0.73100</td>\n",
       "      <td>0.000015</td>\n",
       "      <td>0.213</td>\n",
       "      <td>-7.224</td>\n",
       "      <td>146.277</td>\n",
       "      <td>309.600</td>\n",
       "    </tr>\n",
       "    <tr>\n",
       "      <th>1mea3bSkSGXuIRvnydlB5b</th>\n",
       "      <td>0.5515</td>\n",
       "      <td>0.09540</td>\n",
       "      <td>0.000003</td>\n",
       "      <td>0.417</td>\n",
       "      <td>-7.115</td>\n",
       "      <td>138.015</td>\n",
       "      <td>242.373</td>\n",
       "    </tr>\n",
       "    <tr>\n",
       "      <th>2U8g9wVcUu9wsg6i7sFSv8</th>\n",
       "      <td>0.5785</td>\n",
       "      <td>0.00194</td>\n",
       "      <td>0.010300</td>\n",
       "      <td>0.333</td>\n",
       "      <td>-6.883</td>\n",
       "      <td>117.980</td>\n",
       "      <td>240.796</td>\n",
       "    </tr>\n",
       "    <tr>\n",
       "      <th>2nvC4i2aMo4CzRjRflysah</th>\n",
       "      <td>0.5060</td>\n",
       "      <td>0.05530</td>\n",
       "      <td>0.000005</td>\n",
       "      <td>0.193</td>\n",
       "      <td>-5.455</td>\n",
       "      <td>144.636</td>\n",
       "      <td>226.680</td>\n",
       "    </tr>\n",
       "  </tbody>\n",
       "</table>\n",
       "</div>"
      ],
      "text/plain": [
       "                        danergy  acousticness  instrumentalness  valence  \\\n",
       "track_ids                                                                  \n",
       "27jdUE1EYDSXZqhjuNxLem   0.6100       0.02660          0.621000    0.352   \n",
       "75JFxkI2RXiU7L9VXzMkle   0.4995       0.73100          0.000015    0.213   \n",
       "1mea3bSkSGXuIRvnydlB5b   0.5515       0.09540          0.000003    0.417   \n",
       "2U8g9wVcUu9wsg6i7sFSv8   0.5785       0.00194          0.010300    0.333   \n",
       "2nvC4i2aMo4CzRjRflysah   0.5060       0.05530          0.000005    0.193   \n",
       "\n",
       "                        loudness    tempo  duration_secs  \n",
       "track_ids                                                 \n",
       "27jdUE1EYDSXZqhjuNxLem    -8.917   93.457        285.014  \n",
       "75JFxkI2RXiU7L9VXzMkle    -7.224  146.277        309.600  \n",
       "1mea3bSkSGXuIRvnydlB5b    -7.115  138.015        242.373  \n",
       "2U8g9wVcUu9wsg6i7sFSv8    -6.883  117.980        240.796  \n",
       "2nvC4i2aMo4CzRjRflysah    -5.455  144.636        226.680  "
      ]
     },
     "execution_count": 10,
     "metadata": {},
     "output_type": "execute_result"
    }
   ],
   "source": [
    "df_disliked.head()"
   ]
  },
  {
   "cell_type": "code",
   "execution_count": 11,
   "metadata": {},
   "outputs": [
    {
     "data": {
      "text/plain": [
       "(1300, 7)"
      ]
     },
     "execution_count": 11,
     "metadata": {},
     "output_type": "execute_result"
    }
   ],
   "source": [
    "df_disliked.shape"
   ]
  },
  {
   "cell_type": "code",
   "execution_count": 12,
   "metadata": {},
   "outputs": [],
   "source": [
    "idx = df_liked.index.intersection(df_disliked.index)\n",
    "df_disliked.drop(idx,inplace=True)"
   ]
  },
  {
   "cell_type": "code",
   "execution_count": 19,
   "metadata": {},
   "outputs": [
    {
     "data": {
      "text/plain": [
       "(2594, 8)"
      ]
     },
     "execution_count": 19,
     "metadata": {},
     "output_type": "execute_result"
    }
   ],
   "source": [
    "df_liked['Liked'] = 1\n",
    "df_disliked['Liked'] = 0\n",
    "\n",
    "df = pd.concat([df_liked,df_disliked])\n",
    "df.shape"
   ]
  },
  {
   "cell_type": "code",
   "execution_count": 20,
   "metadata": {},
   "outputs": [
    {
     "data": {
      "text/html": [
       "<div>\n",
       "<style scoped>\n",
       "    .dataframe tbody tr th:only-of-type {\n",
       "        vertical-align: middle;\n",
       "    }\n",
       "\n",
       "    .dataframe tbody tr th {\n",
       "        vertical-align: top;\n",
       "    }\n",
       "\n",
       "    .dataframe thead th {\n",
       "        text-align: right;\n",
       "    }\n",
       "</style>\n",
       "<table border=\"1\" class=\"dataframe\">\n",
       "  <thead>\n",
       "    <tr style=\"text-align: right;\">\n",
       "      <th></th>\n",
       "      <th>danergy</th>\n",
       "      <th>acousticness</th>\n",
       "      <th>instrumentalness</th>\n",
       "      <th>valence</th>\n",
       "      <th>loudness</th>\n",
       "      <th>tempo</th>\n",
       "      <th>duration_secs</th>\n",
       "      <th>Liked</th>\n",
       "    </tr>\n",
       "    <tr>\n",
       "      <th>track_ids</th>\n",
       "      <th></th>\n",
       "      <th></th>\n",
       "      <th></th>\n",
       "      <th></th>\n",
       "      <th></th>\n",
       "      <th></th>\n",
       "      <th></th>\n",
       "      <th></th>\n",
       "    </tr>\n",
       "  </thead>\n",
       "  <tbody>\n",
       "    <tr>\n",
       "      <th>6vaSStNN5NX4nJ4QbRY3S0</th>\n",
       "      <td>0.5415</td>\n",
       "      <td>0.0946</td>\n",
       "      <td>0.000016</td>\n",
       "      <td>0.5600</td>\n",
       "      <td>-6.543</td>\n",
       "      <td>180.008</td>\n",
       "      <td>246.587</td>\n",
       "      <td>1</td>\n",
       "    </tr>\n",
       "    <tr>\n",
       "      <th>5YQV81brQo3KZbszwGSKC8</th>\n",
       "      <td>0.2745</td>\n",
       "      <td>0.9890</td>\n",
       "      <td>0.874000</td>\n",
       "      <td>0.0816</td>\n",
       "      <td>-20.806</td>\n",
       "      <td>86.820</td>\n",
       "      <td>338.200</td>\n",
       "      <td>1</td>\n",
       "    </tr>\n",
       "    <tr>\n",
       "      <th>6I7GNd3UW45TAxG49R4HtX</th>\n",
       "      <td>0.5665</td>\n",
       "      <td>0.3470</td>\n",
       "      <td>0.000004</td>\n",
       "      <td>0.4180</td>\n",
       "      <td>-10.191</td>\n",
       "      <td>129.942</td>\n",
       "      <td>267.292</td>\n",
       "      <td>1</td>\n",
       "    </tr>\n",
       "    <tr>\n",
       "      <th>2K8elWg8ihrZRwZJ7Gy6L3</th>\n",
       "      <td>0.4265</td>\n",
       "      <td>0.9530</td>\n",
       "      <td>0.000000</td>\n",
       "      <td>0.2960</td>\n",
       "      <td>-8.904</td>\n",
       "      <td>82.035</td>\n",
       "      <td>225.868</td>\n",
       "      <td>1</td>\n",
       "    </tr>\n",
       "    <tr>\n",
       "      <th>018eOid2aGaPdxon7T6GsC</th>\n",
       "      <td>0.4715</td>\n",
       "      <td>0.7890</td>\n",
       "      <td>0.000002</td>\n",
       "      <td>0.3480</td>\n",
       "      <td>-7.144</td>\n",
       "      <td>136.088</td>\n",
       "      <td>247.941</td>\n",
       "      <td>1</td>\n",
       "    </tr>\n",
       "  </tbody>\n",
       "</table>\n",
       "</div>"
      ],
      "text/plain": [
       "                        danergy  acousticness  instrumentalness  valence  \\\n",
       "track_ids                                                                  \n",
       "6vaSStNN5NX4nJ4QbRY3S0   0.5415        0.0946          0.000016   0.5600   \n",
       "5YQV81brQo3KZbszwGSKC8   0.2745        0.9890          0.874000   0.0816   \n",
       "6I7GNd3UW45TAxG49R4HtX   0.5665        0.3470          0.000004   0.4180   \n",
       "2K8elWg8ihrZRwZJ7Gy6L3   0.4265        0.9530          0.000000   0.2960   \n",
       "018eOid2aGaPdxon7T6GsC   0.4715        0.7890          0.000002   0.3480   \n",
       "\n",
       "                        loudness    tempo  duration_secs  Liked  \n",
       "track_ids                                                        \n",
       "6vaSStNN5NX4nJ4QbRY3S0    -6.543  180.008        246.587      1  \n",
       "5YQV81brQo3KZbszwGSKC8   -20.806   86.820        338.200      1  \n",
       "6I7GNd3UW45TAxG49R4HtX   -10.191  129.942        267.292      1  \n",
       "2K8elWg8ihrZRwZJ7Gy6L3    -8.904   82.035        225.868      1  \n",
       "018eOid2aGaPdxon7T6GsC    -7.144  136.088        247.941      1  "
      ]
     },
     "execution_count": 20,
     "metadata": {},
     "output_type": "execute_result"
    }
   ],
   "source": [
    "df.head()"
   ]
  },
  {
   "cell_type": "markdown",
   "metadata": {},
   "source": [
    " "
   ]
  },
  {
   "cell_type": "markdown",
   "metadata": {},
   "source": [
    "## Machine Learning"
   ]
  },
  {
   "cell_type": "code",
   "execution_count": 42,
   "metadata": {},
   "outputs": [],
   "source": [
    "from sklearn import model_selection\n",
    "from sklearn.metrics import accuracy_score"
   ]
  },
  {
   "cell_type": "code",
   "execution_count": 31,
   "metadata": {},
   "outputs": [],
   "source": [
    "df_train, df_test = model_selection.train_test_split(df,test_size=0.2)"
   ]
  },
  {
   "cell_type": "code",
   "execution_count": 32,
   "metadata": {},
   "outputs": [
    {
     "data": {
      "text/plain": [
       "(2075, 8)"
      ]
     },
     "execution_count": 32,
     "metadata": {},
     "output_type": "execute_result"
    }
   ],
   "source": [
    "df_train.shape"
   ]
  },
  {
   "cell_type": "code",
   "execution_count": 33,
   "metadata": {},
   "outputs": [
    {
     "data": {
      "text/plain": [
       "(519, 8)"
      ]
     },
     "execution_count": 33,
     "metadata": {},
     "output_type": "execute_result"
    }
   ],
   "source": [
    "df_test.shape"
   ]
  },
  {
   "cell_type": "code",
   "execution_count": 34,
   "metadata": {},
   "outputs": [],
   "source": [
    "X_train = df_train[['danergy','acousticness','instrumentalness','valence', 'loudness','tempo','duration_secs']]\n",
    "y_train = df_train[['Liked']]\n",
    "X_test = df_test[['danergy','acousticness','instrumentalness','valence', 'loudness','tempo','duration_secs']]\n",
    "y_test = df_test[['Liked']]"
   ]
  },
  {
   "cell_type": "markdown",
   "metadata": {},
   "source": [
    "### 1. Decision Tree Classifier"
   ]
  },
  {
   "cell_type": "code",
   "execution_count": 51,
   "metadata": {},
   "outputs": [],
   "source": [
    "from sklearn.tree import DecisionTreeClassifier\n"
   ]
  },
  {
   "cell_type": "code",
   "execution_count": 58,
   "metadata": {},
   "outputs": [],
   "source": [
    "# clf = DecisionTreeClassifier()\n",
    "clf = DecisionTreeClassifier(min_samples_split=100)\n",
    "# clf = DecisionTreeClassifier(criterion=\"entropy\", max_depth=3)"
   ]
  },
  {
   "cell_type": "code",
   "execution_count": 59,
   "metadata": {},
   "outputs": [],
   "source": [
    "clf_train = clf.fit(X_train,y_train)"
   ]
  },
  {
   "cell_type": "code",
   "execution_count": 60,
   "metadata": {},
   "outputs": [
    {
     "name": "stdout",
     "output_type": "stream",
     "text": [
      "Accuracy using Decision Tree is 80.2 %\n"
     ]
    }
   ],
   "source": [
    "clf_predict = clf.predict(X_test)\n",
    "score = accuracy_score(y_test,clf_predict)*100\n",
    "print('Accuracy using Decision Tree is', round(score,1),\"%\" )"
   ]
  },
  {
   "cell_type": "markdown",
   "metadata": {},
   "source": [
    "### 2. KNN "
   ]
  },
  {
   "cell_type": "code",
   "execution_count": 61,
   "metadata": {},
   "outputs": [],
   "source": [
    "from sklearn.neighbors import KNeighborsClassifier"
   ]
  },
  {
   "cell_type": "code",
   "execution_count": 82,
   "metadata": {},
   "outputs": [],
   "source": [
    "mod = KNeighborsClassifier(5)"
   ]
  },
  {
   "cell_type": "code",
   "execution_count": 83,
   "metadata": {},
   "outputs": [
    {
     "name": "stdout",
     "output_type": "stream",
     "text": [
      "Accuracy using KNN is 70.9 %\n"
     ]
    }
   ],
   "source": [
    "mod_train = mod.fit(X_train, y_train['Liked'])\n",
    "\n",
    "y_predict = mod.predict(X_test)\n",
    "score = accuracy_score(y_test,y_predict)*100\n",
    "print('Accuracy using KNN is', round(score,1),\"%\" )"
   ]
  },
  {
   "cell_type": "markdown",
   "metadata": {},
   "source": [
    "The KNN Algorithm relies on distance for classification. However, in our training dataset, the liked/disliked data was separated along distinct characteristics. Hence the performance is not "
   ]
  },
  {
   "cell_type": "markdown",
   "metadata": {},
   "source": [
    "### 3. Gradient Boost Classifier"
   ]
  },
  {
   "cell_type": "code",
   "execution_count": 84,
   "metadata": {},
   "outputs": [],
   "source": [
    "from sklearn.ensemble import GradientBoostingClassifier"
   ]
  },
  {
   "cell_type": "code",
   "execution_count": 103,
   "metadata": {},
   "outputs": [],
   "source": [
    "mod = GradientBoostingClassifier( max_depth=4)\n",
    "# mod = GradientBoostingClassifier(n_estimators=100, learning_rate=.1, max_depth=3)"
   ]
  },
  {
   "cell_type": "code",
   "execution_count": 104,
   "metadata": {},
   "outputs": [
    {
     "name": "stdout",
     "output_type": "stream",
     "text": [
      "Accuracy using GBC is 80.9 %\n"
     ]
    }
   ],
   "source": [
    "mod_train = mod.fit(X_train, y_train['Liked'])\n",
    "\n",
    "y_predict = mod.predict(X_test)\n",
    "score = accuracy_score(y_test,y_predict)*100\n",
    "print('Accuracy using GBC is', round(score,1),\"%\" )"
   ]
  },
  {
   "cell_type": "markdown",
   "metadata": {},
   "source": [
    "### 4. XGBoost"
   ]
  },
  {
   "cell_type": "code",
   "execution_count": 106,
   "metadata": {},
   "outputs": [],
   "source": [
    "from xgboost import XGBClassifier"
   ]
  },
  {
   "cell_type": "code",
   "execution_count": 111,
   "metadata": {},
   "outputs": [],
   "source": [
    "mod = XGBClassifier(use_label_encoder=False,eval_metric='error')"
   ]
  },
  {
   "cell_type": "code",
   "execution_count": 112,
   "metadata": {},
   "outputs": [
    {
     "name": "stdout",
     "output_type": "stream",
     "text": [
      "Accuracy using XGB is 81.3 %\n"
     ]
    }
   ],
   "source": [
    "mod_train = mod.fit(X_train, y_train['Liked'])\n",
    "\n",
    "y_predict = mod.predict(X_test)\n",
    "score = accuracy_score(y_test,y_predict)*100\n",
    "print('Accuracy using XGB is', round(score,1),\"%\" )"
   ]
  },
  {
   "cell_type": "code",
   "execution_count": null,
   "metadata": {},
   "outputs": [],
   "source": []
  }
 ],
 "metadata": {
  "kernelspec": {
   "display_name": "Python 3",
   "language": "python",
   "name": "python3"
  },
  "language_info": {
   "codemirror_mode": {
    "name": "ipython",
    "version": 3
   },
   "file_extension": ".py",
   "mimetype": "text/x-python",
   "name": "python",
   "nbconvert_exporter": "python",
   "pygments_lexer": "ipython3",
   "version": "3.9.0"
  }
 },
 "nbformat": 4,
 "nbformat_minor": 4
}
