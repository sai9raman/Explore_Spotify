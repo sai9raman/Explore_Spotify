{
 "cells": [
  {
   "cell_type": "code",
   "execution_count": 70,
   "metadata": {},
   "outputs": [],
   "source": [
    "import spotipy\n",
    "from spotipy.oauth2 import SpotifyClientCredentials\n",
    "import pandas as pd\n",
    "from xgboost import XGBClassifier\n",
    "import os\n",
    "\n",
    "client_id = os.environ([])\n",
    "client_secret = '028d6b3b5f7543c3800d63dfefc6cd47'\n",
    "\n",
    "auth = SpotifyClientCredentials(client_id = client_id, client_secret=client_secret)\n",
    "sp = spotipy.Spotify(client_credentials_manager=auth)"
   ]
  },
  {
   "cell_type": "code",
   "execution_count": 132,
   "metadata": {},
   "outputs": [],
   "source": [
    "def song_search(song_name, album_name):\n",
    "\n",
    "    result = sp.search(q='album:'+album_name+' track:'+song_name,type='track')\n",
    "    \n",
    "    if result['tracks']['items'] == []:\n",
    "        return {\"Track Not Found\": \"No such tracks found\"}\n",
    "    \n",
    "    return result['tracks']['items'][0]"
   ]
  },
  {
   "cell_type": "code",
   "execution_count": 133,
   "metadata": {},
   "outputs": [],
   "source": [
    "def print_song_search_result(song_name, album_name):\n",
    "    \n",
    "    res = song_search(song_name, album_name)\n",
    "    \n",
    "    if \"Track Not Found\" in  res:\n",
    "        return res \n",
    "    \n",
    "    res_dict = {'Album': res['album']['name'], \n",
    "                'Artist': res['album']['artists'][0]['name'],\n",
    "                'Track': res['name'],\n",
    "                'Released': res['album']['release_date']\n",
    "               } \n",
    "    \n",
    "    return res_dict"
   ]
  },
  {
   "cell_type": "code",
   "execution_count": 135,
   "metadata": {},
   "outputs": [],
   "source": [
    "def get_features(song_name, album_name):\n",
    "    \n",
    "    res = song_search(song_name, album_name)\n",
    "    \n",
    "    if \"Track Not Found\" in  res:\n",
    "        return pd.DataFrame(res,index=[0]) \n",
    "    \n",
    "    df = pd.DataFrame(index=[res['id']])\n",
    "    \n",
    "    af = sp.audio_features(res['id'])\n",
    "    af = af[0]\n",
    "    df['danergy'] = (af['danceability']+af['energy'])/2\n",
    "    df['acousticness'] = af['acousticness']\n",
    "    df['instrumentalness'] = af['instrumentalness']\n",
    "    df['valence'] = af['valence']\n",
    "    df['loudness'] = af['loudness']\n",
    "    df['tempo'] = af['tempo']\n",
    "    df['duration_secs'] = af['duration_ms']/1000\n",
    "\n",
    "    return df"
   ]
  },
  {
   "cell_type": "code",
   "execution_count": 158,
   "metadata": {},
   "outputs": [],
   "source": [
    "def xgb_prediction(df):\n",
    "    \n",
    "    if \"Track Not Found\" in df.columns:\n",
    "        return \"Track Not Found\"\n",
    "    \n",
    "    xgb_model = XGBClassifier()\n",
    "    xgb_model.load_model('SpotiSai.json')\n",
    "\n",
    "    prediction = xgb_model.predict(df)[0]\n",
    "    \n",
    "    if prediction:\n",
    "        return \"Looks like Sai might like this song, you should go ahead and suggest this to him\"\n",
    "    else:        \n",
    "        return \"Hmm.. this doesn't seem like a song he would like. But feel free to suggest this to him and check out\" \n",
    "    \n"
   ]
  },
  {
   "cell_type": "code",
   "execution_count": 171,
   "metadata": {},
   "outputs": [],
   "source": [
    "album_name = '19'\n",
    "song_name = 'First Love'"
   ]
  },
  {
   "cell_type": "code",
   "execution_count": 172,
   "metadata": {},
   "outputs": [
    {
     "data": {
      "text/plain": [
       "{'Album': '19',\n",
       " 'Artist': 'Adele',\n",
       " 'Track': 'First Love',\n",
       " 'Released': '2008-01-28'}"
      ]
     },
     "execution_count": 172,
     "metadata": {},
     "output_type": "execute_result"
    }
   ],
   "source": [
    "print_song_search_result(song_name,album_name)"
   ]
  },
  {
   "cell_type": "code",
   "execution_count": 173,
   "metadata": {},
   "outputs": [],
   "source": [
    "df = get_features(song_name,album_name)"
   ]
  },
  {
   "cell_type": "code",
   "execution_count": 174,
   "metadata": {},
   "outputs": [
    {
     "data": {
      "text/plain": [
       "\"Hmm.. this doesn't seem like a song he would like. But feel free to suggest this to him and check out\""
      ]
     },
     "execution_count": 174,
     "metadata": {},
     "output_type": "execute_result"
    }
   ],
   "source": [
    "xgb_prediction(df)"
   ]
  },
  {
   "cell_type": "code",
   "execution_count": null,
   "metadata": {},
   "outputs": [],
   "source": []
  }
 ],
 "metadata": {
  "kernelspec": {
   "display_name": "Python 3",
   "language": "python",
   "name": "python3"
  },
  "language_info": {
   "codemirror_mode": {
    "name": "ipython",
    "version": 3
   },
   "file_extension": ".py",
   "mimetype": "text/x-python",
   "name": "python",
   "nbconvert_exporter": "python",
   "pygments_lexer": "ipython3",
   "version": "3.9.0"
  }
 },
 "nbformat": 4,
 "nbformat_minor": 4
}
