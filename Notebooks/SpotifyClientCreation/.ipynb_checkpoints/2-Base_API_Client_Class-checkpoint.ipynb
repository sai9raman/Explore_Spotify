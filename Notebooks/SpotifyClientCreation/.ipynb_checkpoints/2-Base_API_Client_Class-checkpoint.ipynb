{
 "cells": [
  {
   "cell_type": "code",
   "execution_count": 1,
   "metadata": {},
   "outputs": [
    {
     "name": "stdout",
     "output_type": "stream",
     "text": [
      "Requirement already satisfied: requests in /Users/sairaman/Documents/Projects/Explore_SpotifyAPI/spot_venv/lib/python3.9/site-packages (2.24.0)\r\n",
      "Requirement already satisfied: chardet<4,>=3.0.2 in /Users/sairaman/Documents/Projects/Explore_SpotifyAPI/spot_venv/lib/python3.9/site-packages (from requests) (3.0.4)\r\n",
      "Requirement already satisfied: idna<3,>=2.5 in /Users/sairaman/Documents/Projects/Explore_SpotifyAPI/spot_venv/lib/python3.9/site-packages (from requests) (2.10)\r\n",
      "Requirement already satisfied: urllib3!=1.25.0,!=1.25.1,<1.26,>=1.21.1 in /Users/sairaman/Documents/Projects/Explore_SpotifyAPI/spot_venv/lib/python3.9/site-packages (from requests) (1.25.11)\r\n",
      "Requirement already satisfied: certifi>=2017.4.17 in /Users/sairaman/Documents/Projects/Explore_SpotifyAPI/spot_venv/lib/python3.9/site-packages (from requests) (2020.11.8)\r\n"
     ]
    }
   ],
   "source": [
    "!pip install requests"
   ]
  },
  {
   "cell_type": "code",
   "execution_count": 2,
   "metadata": {},
   "outputs": [],
   "source": [
    "import base64\n",
    "import requests\n",
    "import datetime"
   ]
  },
  {
   "cell_type": "code",
   "execution_count": 3,
   "metadata": {},
   "outputs": [],
   "source": [
    "client_id = '4eaaf1ab67a346ff909b0ec7a639ff40'\n",
    "client_secret = 'e4b69df4960d4a86b981ba70cb251855'\n"
   ]
  },
  {
   "cell_type": "code",
   "execution_count": 8,
   "metadata": {},
   "outputs": [],
   "source": [
    "class SpotifyAPI(object):\n",
    "    access_token=None\n",
    "    access_token_expiry = datetime.datetime.now()\n",
    "    access_token_did_expire = True\n",
    "    client_id = None\n",
    "    client_secret = None\n",
    "    token_url = 'https://accounts.spotify.com/api/token'\n",
    "    \n",
    "    def __init__(self,client_id,client_secret,*args,**kwargs):\n",
    "        super().__init__(*args,**kwargs)\n",
    "        self.client_id = client_id\n",
    "        self.client_secret = client_secret\n",
    "    \n",
    "    def get_client_credentials(self):\n",
    "        \"\"\"\n",
    "        Returns a base64 encoded STRING\n",
    "        \"\"\"\n",
    "        client_id = self.client_id\n",
    "        client_secret = self.client_secret\n",
    "        if client_id == None or client_secret == None:\n",
    "            raise Exception (\"You must set client Id and client secret \")\n",
    "        client_creds = f'{client_id}:{client_secret}'\n",
    "        client_creds_b64 = base64.b64encode(client_creds.encode())\n",
    "        \n",
    "        return client_creds_b64.decode()\n",
    "        \n",
    "    def get_token_headers(self):\n",
    "        client_creds_b64 = self.get_client_credentials()\n",
    "        return {\n",
    "    \"Authorization\": f\"Basic {client_creds_b64}\" \n",
    "}\n",
    "    \n",
    "    def get_token_data(self):\n",
    "        return {\n",
    "    \"grant_type\":\"client_credentials\"\n",
    "}\n",
    "    \n",
    "    def perform_auth(self):\n",
    "        \n",
    "        token_url = self.token_url\n",
    "        token_data = self.get_token_data()\n",
    "        token_headers = self.get_token_headers()\n",
    "        \n",
    "        r = requests.post(token_url,data=token_data,headers=token_headers)\n",
    "        \n",
    "        if r.status_code not in range(200,299):\n",
    "            return False\n",
    "        \n",
    "        data = r.json()\n",
    "        now = datetime.datetime.now()\n",
    "        self.access_token = data['access_token']\n",
    "        expires_in = data['expires_in'] #in seconds\n",
    "        expiry = now+datetime.timedelta(seconds=expires_in)\n",
    "        self.access_token_expiry = expiry\n",
    "        self.access_token_did_expire = expiry<now\n",
    "        \n",
    "        return True\n",
    "        \n",
    "        "
   ]
  },
  {
   "cell_type": "code",
   "execution_count": 12,
   "metadata": {},
   "outputs": [],
   "source": [
    "spotify = SpotifyAPI(client_id,client_secret)"
   ]
  },
  {
   "cell_type": "code",
   "execution_count": 13,
   "metadata": {},
   "outputs": [
    {
     "data": {
      "text/plain": [
       "True"
      ]
     },
     "execution_count": 13,
     "metadata": {},
     "output_type": "execute_result"
    }
   ],
   "source": [
    "spotify.perform_auth()"
   ]
  },
  {
   "cell_type": "code",
   "execution_count": 14,
   "metadata": {},
   "outputs": [
    {
     "data": {
      "text/plain": [
       "'BQAwAYkfbi-vhie6zFEZ1vPV5IfHBidsliDyMKeQkmwlsM08W3cFxjkumqi8NXGOcvpVFwHeHfPFxg6lGes'"
      ]
     },
     "execution_count": 14,
     "metadata": {},
     "output_type": "execute_result"
    }
   ],
   "source": [
    "spotify.access_token"
   ]
  },
  {
   "cell_type": "code",
   "execution_count": null,
   "metadata": {},
   "outputs": [],
   "source": []
  }
 ],
 "metadata": {
  "kernelspec": {
   "display_name": "Python 3",
   "language": "python",
   "name": "python3"
  },
  "language_info": {
   "codemirror_mode": {
    "name": "ipython",
    "version": 3
   },
   "file_extension": ".py",
   "mimetype": "text/x-python",
   "name": "python",
   "nbconvert_exporter": "python",
   "pygments_lexer": "ipython3",
   "version": "3.9.0"
  }
 },
 "nbformat": 4,
 "nbformat_minor": 4
}
