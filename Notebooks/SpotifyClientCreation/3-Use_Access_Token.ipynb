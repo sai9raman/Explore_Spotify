{
 "cells": [
  {
   "cell_type": "code",
   "execution_count": 1,
   "metadata": {},
   "outputs": [],
   "source": [
    "import base64\n",
    "import requests\n",
    "import datetime\n",
    "from urllib.parse import urlencode"
   ]
  },
  {
   "cell_type": "code",
   "execution_count": 2,
   "metadata": {},
   "outputs": [],
   "source": [
    "class SpotifyAPI(object):\n",
    "    access_token=None\n",
    "    access_token_expiry = datetime.datetime.now()\n",
    "    access_token_did_expire = True\n",
    "    client_id = None\n",
    "    client_secret = None\n",
    "    token_url = 'https://accounts.spotify.com/api/token'\n",
    "    \n",
    "    def __init__(self,client_id,client_secret,*args,**kwargs):\n",
    "        super().__init__(*args,**kwargs)\n",
    "        self.client_id = client_id\n",
    "        self.client_secret = client_secret\n",
    "    \n",
    "    def get_client_credentials(self):\n",
    "        \"\"\"\n",
    "        Returns a base64 encoded STRING\n",
    "        \"\"\"\n",
    "        client_id = self.client_id\n",
    "        client_secret = self.client_secret\n",
    "        if client_id == None or client_secret == None:\n",
    "            raise Exception (\"You must set client Id and client secret \")\n",
    "        client_creds = f'{client_id}:{client_secret}'\n",
    "        client_creds_b64 = base64.b64encode(client_creds.encode())\n",
    "        \n",
    "        return client_creds_b64.decode()\n",
    "        \n",
    "    def get_token_headers(self):\n",
    "        client_creds_b64 = self.get_client_credentials()\n",
    "        return {\n",
    "    \"Authorization\": f\"Basic {client_creds_b64}\" \n",
    "}\n",
    "    \n",
    "    def get_token_data(self):\n",
    "        return {\n",
    "    \"grant_type\":\"client_credentials\"\n",
    "}\n",
    "    \n",
    "    def perform_auth(self):\n",
    "        \n",
    "        token_url = self.token_url\n",
    "        token_data = self.get_token_data()\n",
    "        token_headers = self.get_token_headers()\n",
    "        \n",
    "        r = requests.post(token_url,data=token_data,headers=token_headers)\n",
    "        \n",
    "        if r.status_code not in range(200,299):\n",
    "            return False\n",
    "        \n",
    "        data = r.json()\n",
    "        now = datetime.datetime.now()\n",
    "        self.access_token = data['access_token']\n",
    "        expires_in = data['expires_in'] #in seconds\n",
    "        expiry = now+datetime.timedelta(seconds=expires_in)\n",
    "        self.access_token_expiry = expiry\n",
    "        self.access_token_did_expire = expiry<now\n",
    "        \n",
    "        return True\n",
    "        \n",
    "        "
   ]
  },
  {
   "cell_type": "code",
   "execution_count": 3,
   "metadata": {},
   "outputs": [],
   "source": [
    "import os\n",
    "\n",
    "client_id = os.environ['SPOTIFY_CID']\n",
    "client_secret = os.environ['SPOTIFY_CS']"
   ]
  },
  {
   "cell_type": "code",
   "execution_count": 4,
   "metadata": {},
   "outputs": [],
   "source": [
    "spotify = SpotifyAPI(client_id,client_secret)"
   ]
  },
  {
   "cell_type": "code",
   "execution_count": 5,
   "metadata": {},
   "outputs": [
    {
     "data": {
      "text/plain": [
       "True"
      ]
     },
     "execution_count": 5,
     "metadata": {},
     "output_type": "execute_result"
    }
   ],
   "source": [
    "spotify.perform_auth()"
   ]
  },
  {
   "cell_type": "code",
   "execution_count": 6,
   "metadata": {},
   "outputs": [],
   "source": [
    "access_token = spotify.access_token"
   ]
  },
  {
   "cell_type": "code",
   "execution_count": 7,
   "metadata": {},
   "outputs": [
    {
     "name": "stdout",
     "output_type": "stream",
     "text": [
      "https://api.spotify.com/v1/search?q=Time&type=track\n",
      "200\n"
     ]
    }
   ],
   "source": [
    "headers = { \n",
    "    'Authorization':f'Bearer {access_token}'\n",
    "}\n",
    "endpoint = 'https://api.spotify.com/v1/search'\n",
    "data = urlencode({\"q\":\"Time\",\"type\":\"track\"})\n",
    "\n",
    "lookup_url = f'{endpoint}?{data}'\n",
    "print(lookup_url)\n",
    "r=requests.get(lookup_url, headers=headers)\n",
    "print(r.status_code)\n"
   ]
  },
  {
   "cell_type": "code",
   "execution_count": 9,
   "metadata": {},
   "outputs": [],
   "source": [
    "data = urlencode({\"q\":\"A lannister always pays his debts\",\"type\":\"track\"})\n",
    "\n",
    "lookup_url = f'{endpoint}?{data}'\n",
    "r=requests.get(lookup_url, headers=headers)"
   ]
  },
  {
   "cell_type": "code",
   "execution_count": null,
   "metadata": {},
   "outputs": [],
   "source": []
  }
 ],
 "metadata": {
  "kernelspec": {
   "display_name": "Python 3",
   "language": "python",
   "name": "python3"
  },
  "language_info": {
   "codemirror_mode": {
    "name": "ipython",
    "version": 3
   },
   "file_extension": ".py",
   "mimetype": "text/x-python",
   "name": "python",
   "nbconvert_exporter": "python",
   "pygments_lexer": "ipython3",
   "version": "3.9.0"
  }
 },
 "nbformat": 4,
 "nbformat_minor": 4
}
