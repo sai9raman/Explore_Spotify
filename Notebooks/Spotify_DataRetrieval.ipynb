{
 "cells": [
  {
   "cell_type": "code",
   "execution_count": 21,
   "metadata": {},
   "outputs": [],
   "source": [
    "import spotipy\n",
    "from spotipy.oauth2 import SpotifyClientCredentials\n",
    "import spotipy.util as util\n",
    "import requests \n"
   ]
  },
  {
   "cell_type": "code",
   "execution_count": 20,
   "metadata": {},
   "outputs": [
    {
     "data": {
      "text/plain": [
       "\"\\n# --> this library was written to \\n1) create a spotify client 2) perform query based searches\\n--> since we are using Spotipy, we no longer need the manual creation of this client; \\nand since we want to perform analysis based on data, we don't need individual search requirements\\n\""
      ]
     },
     "execution_count": 20,
     "metadata": {},
     "output_type": "execute_result"
    }
   ],
   "source": [
    "\"\"\"\n",
    "# --> this library was written to \n",
    "1) create a spotify client 2) perform query based searches\n",
    "--> since we are using Spotipy, we no longer need the manual creation of this client; \n",
    "and since we want to perform analysis based on data, we don't need individual search requirements\n",
    "\"\"\"\n",
    "# import spotify_client "
   ]
  },
  {
   "cell_type": "code",
   "execution_count": 12,
   "metadata": {},
   "outputs": [],
   "source": [
    "client_id = '4eaaf1ab67a346ff909b0ec7a639ff40'\n",
    "client_secret = 'e4b69df4960d4a86b981ba70cb251855'"
   ]
  },
  {
   "cell_type": "code",
   "execution_count": 14,
   "metadata": {},
   "outputs": [],
   "source": [
    "auth = SpotifyClientCredentials(client_id = client_id, client_secret=client_secret)"
   ]
  },
  {
   "cell_type": "code",
   "execution_count": 23,
   "metadata": {},
   "outputs": [],
   "source": [
    "sp = spotipy.Spotify(client_credentials_manager=auth)"
   ]
  },
  {
   "cell_type": "code",
   "execution_count": 24,
   "metadata": {},
   "outputs": [
    {
     "name": "stdout",
     "output_type": "stream",
     "text": [
      "<spotipy.client.Spotify object at 0x113e7b940>\n"
     ]
    }
   ],
   "source": [
    "print(spotify)"
   ]
  },
  {
   "cell_type": "code",
   "execution_count": 34,
   "metadata": {},
   "outputs": [],
   "source": [
    "res = sp.categories(country=['IN','US'])"
   ]
  },
  {
   "cell_type": "code",
   "execution_count": 36,
   "metadata": {},
   "outputs": [
    {
     "data": {
      "text/plain": [
       "{'categories': {'href': 'https://api.spotify.com/v1/browse/categories?country=IN&offset=0&limit=20',\n",
       "  'items': [{'href': 'https://api.spotify.com/v1/browse/categories/toplists',\n",
       "    'icons': [{'height': 275,\n",
       "      'url': 'https://t.scdn.co/media/derived/toplists_11160599e6a04ac5d6f2757f5511778f_0_0_275_275.jpg',\n",
       "      'width': 275}],\n",
       "    'id': 'toplists',\n",
       "    'name': 'Top Lists'},\n",
       "   {'href': 'https://api.spotify.com/v1/browse/categories/diwali',\n",
       "    'icons': [{'height': None,\n",
       "      'url': 'https://t.scdn.co/images/f2792f4efba9405887f172de966df356.jpeg',\n",
       "      'width': None}],\n",
       "    'id': 'diwali',\n",
       "    'name': 'Diwali'},\n",
       "   {'href': 'https://api.spotify.com/v1/browse/categories/bollywood',\n",
       "    'icons': [{'height': None,\n",
       "      'url': 'https://t.scdn.co/images/8a0fabf4d537486e9b5a4623c921f77e.jpeg',\n",
       "      'width': None}],\n",
       "    'id': 'bollywood',\n",
       "    'name': 'Bollywood'},\n",
       "   {'href': 'https://api.spotify.com/v1/browse/categories/punjabi',\n",
       "    'icons': [{'height': None,\n",
       "      'url': 'https://t.scdn.co/images/11e89d14d7844b7eb3d26619cb662a9b.jpeg',\n",
       "      'width': None}],\n",
       "    'id': 'punjabi',\n",
       "    'name': 'Punjabi'},\n",
       "   {'href': 'https://api.spotify.com/v1/browse/categories/tamil',\n",
       "    'icons': [{'height': None,\n",
       "      'url': 'https://t.scdn.co/images/2117dadfdd254825b3fbc52e3652ed56.jpeg',\n",
       "      'width': None}],\n",
       "    'id': 'tamil',\n",
       "    'name': 'Tamil'},\n",
       "   {'href': 'https://api.spotify.com/v1/browse/categories/telugu',\n",
       "    'icons': [{'height': None,\n",
       "      'url': 'https://t.scdn.co/images/96b5132876eb4e818723555ce365cd87.jpeg',\n",
       "      'width': None}],\n",
       "    'id': 'telugu',\n",
       "    'name': 'Telugu'},\n",
       "   {'href': 'https://api.spotify.com/v1/browse/categories/indie_alt',\n",
       "    'icons': [{'height': None,\n",
       "      'url': 'https://t.scdn.co/images/fe06caf056474bc58862591cd60b57fc.jpeg',\n",
       "      'width': None}],\n",
       "    'id': 'indie_alt',\n",
       "    'name': 'Indie'},\n",
       "   {'href': 'https://api.spotify.com/v1/browse/categories/pop',\n",
       "    'icons': [{'height': 274,\n",
       "      'url': 'https://t.scdn.co/media/derived/pop-274x274_447148649685019f5e2a03a39e78ba52_0_0_274_274.jpg',\n",
       "      'width': 274}],\n",
       "    'id': 'pop',\n",
       "    'name': 'Pop'},\n",
       "   {'href': 'https://api.spotify.com/v1/browse/categories/radar',\n",
       "    'icons': [{'height': None,\n",
       "      'url': 'https://t.scdn.co/images/c6677aa51acf4121b66b9d1f231bd427.png',\n",
       "      'width': None}],\n",
       "    'id': 'radar',\n",
       "    'name': 'RADAR'},\n",
       "   {'href': 'https://api.spotify.com/v1/browse/categories/marathi',\n",
       "    'icons': [{'height': None,\n",
       "      'url': 'https://t.scdn.co/images/713254a577a64338a450481329f0d83f.jpeg',\n",
       "      'width': None}],\n",
       "    'id': 'marathi',\n",
       "    'name': 'Marathi'},\n",
       "   {'href': 'https://api.spotify.com/v1/browse/categories/romance',\n",
       "    'icons': [{'height': 274,\n",
       "      'url': 'https://t.scdn.co/media/derived/romance-274x274_8100794c94847b6d27858bed6fa4d91b_0_0_274_274.jpg',\n",
       "      'width': 274}],\n",
       "    'id': 'romance',\n",
       "    'name': 'Romance'},\n",
       "   {'href': 'https://api.spotify.com/v1/browse/categories/kpop',\n",
       "    'icons': [{'height': None,\n",
       "      'url': 'https://t.scdn.co/images/2078afd91e4d431eb19efc5bee5ab131.jpeg',\n",
       "      'width': None}],\n",
       "    'id': 'kpop',\n",
       "    'name': 'K-Pop'},\n",
       "   {'href': 'https://api.spotify.com/v1/browse/categories/party',\n",
       "    'icons': [{'height': 274,\n",
       "      'url': 'https://t.scdn.co/media/links/partyicon_274x274.jpg',\n",
       "      'width': 274}],\n",
       "    'id': 'party',\n",
       "    'name': 'Party'},\n",
       "   {'href': 'https://api.spotify.com/v1/browse/categories/instrumental',\n",
       "    'icons': [{'height': None,\n",
       "      'url': 'https://t.scdn.co/images/384c2b595a1648aa801837ff99961188',\n",
       "      'width': None}],\n",
       "    'id': 'instrumental',\n",
       "    'name': 'Instrumental'},\n",
       "   {'href': 'https://api.spotify.com/v1/browse/categories/edm_dance',\n",
       "    'icons': [{'height': 274,\n",
       "      'url': 'https://t.scdn.co/media/derived/edm-274x274_0ef612604200a9c14995432994455a6d_0_0_274_274.jpg',\n",
       "      'width': 274}],\n",
       "    'id': 'edm_dance',\n",
       "    'name': 'Dance/Electronic'},\n",
       "   {'href': 'https://api.spotify.com/v1/browse/categories/decades',\n",
       "    'icons': [{'height': 274,\n",
       "      'url': 'https://t.scdn.co/media/derived/decades_9ad8e458242b2ac8b184e79ef336c455_0_0_274_274.jpg',\n",
       "      'width': 274}],\n",
       "    'id': 'decades',\n",
       "    'name': 'Decades'},\n",
       "   {'href': 'https://api.spotify.com/v1/browse/categories/hiphop',\n",
       "    'icons': [{'height': 274,\n",
       "      'url': 'https://t.scdn.co/media/original/hip-274_0a661854d61e29eace5fe63f73495e68_274x274.jpg',\n",
       "      'width': 274}],\n",
       "    'id': 'hiphop',\n",
       "    'name': 'Hip Hop'},\n",
       "   {'href': 'https://api.spotify.com/v1/browse/categories/workout',\n",
       "    'icons': [{'height': None,\n",
       "      'url': 'https://t.scdn.co/media/links/workout-274x274.jpg',\n",
       "      'width': None}],\n",
       "    'id': 'workout',\n",
       "    'name': 'Workout'},\n",
       "   {'href': 'https://api.spotify.com/v1/browse/categories/at_home',\n",
       "    'icons': [{'height': None,\n",
       "      'url': 'https://t.scdn.co/images/04da469dd7be4dab96659aa1fa9f0ac9.jpeg',\n",
       "      'width': None}],\n",
       "    'id': 'at_home',\n",
       "    'name': 'At Home'},\n",
       "   {'href': 'https://api.spotify.com/v1/browse/categories/roots',\n",
       "    'icons': [{'height': None,\n",
       "      'url': 'https://t.scdn.co/images/7fe0f2c9c91f45a3b6bae49d298201a4.jpeg',\n",
       "      'width': None}],\n",
       "    'id': 'roots',\n",
       "    'name': 'Folk & Acoustic'}],\n",
       "  'limit': 20,\n",
       "  'next': 'https://api.spotify.com/v1/browse/categories?country=IN&offset=20&limit=20',\n",
       "  'offset': 0,\n",
       "  'previous': None,\n",
       "  'total': 46}}"
      ]
     },
     "execution_count": 36,
     "metadata": {},
     "output_type": "execute_result"
    }
   ],
   "source": [
    "res"
   ]
  },
  {
   "cell_type": "code",
   "execution_count": null,
   "metadata": {},
   "outputs": [],
   "source": []
  }
 ],
 "metadata": {
  "kernelspec": {
   "display_name": "Python 3",
   "language": "python",
   "name": "python3"
  },
  "language_info": {
   "codemirror_mode": {
    "name": "ipython",
    "version": 3
   },
   "file_extension": ".py",
   "mimetype": "text/x-python",
   "name": "python",
   "nbconvert_exporter": "python",
   "pygments_lexer": "ipython3",
   "version": "3.9.0"
  }
 },
 "nbformat": 4,
 "nbformat_minor": 4
}
